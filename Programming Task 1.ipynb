{
 "cells": [
  {
   "cell_type": "markdown",
   "id": "e1f2144f",
   "metadata": {},
   "source": [
    "Programming Task #1\n",
    "TASK\n",
    "Given a list of digits, determine the integer that it represents. \n",
    "\n",
    "For example, given the list: [8,3,5,1], your program should output 8351 as an integer.\n",
    "\n",
    "Note: You are not allowed to use conversion / casting, or any method that makes your solution trivial (such as printing each number without spaces). You should employ an algorithmic approach in your code. "
   ]
  },
  {
   "cell_type": "code",
   "execution_count": 24,
   "id": "c4bc495c",
   "metadata": {},
   "outputs": [
    {
     "name": "stdout",
     "output_type": "stream",
     "text": [
      "8351\n",
      "<class 'int'>\n"
     ]
    }
   ],
   "source": [
    "lst = [8,3,5,1] #given list\n",
    "result = 0\n",
    "\n",
    "for digit in lst: #iterates through each digit\n",
    "    result = (result * 10) + digit #'result ='' represents the new value of the variable.\n",
    "    \n",
    "print(result)\n",
    "print(type(result))"
   ]
  },
  {
   "cell_type": "markdown",
   "id": "fc0637ed",
   "metadata": {},
   "source": [
    "### Purpose"
   ]
  },
  {
   "cell_type": "markdown",
   "id": "2b61b814",
   "metadata": {},
   "source": [
    "The code has a given list as an input. Using this given list, it will spit out the integer values in the list as a single integer without any spaces."
   ]
  },
  {
   "cell_type": "markdown",
   "id": "318fe021",
   "metadata": {},
   "source": [
    "### Explanation"
   ]
  },
  {
   "cell_type": "markdown",
   "id": "6b6ab5bf",
   "metadata": {},
   "source": [
    "This code works because in the for loop, we are able to go through every integer in the list. The code under the for loop works because multiplying an integer by 10 creates an another integer that has an extra digit at the end with a 0. This allows us to display any integer 1-9 when adding it on to the integer that was multiplied by 10. Repeating these steps creates a single integer that displays all the integer elements in the list as a single integer that is not separated by any spaces."
   ]
  }
 ],
 "metadata": {
  "kernelspec": {
   "display_name": "Python 3 (ipykernel)",
   "language": "python",
   "name": "python3"
  },
  "language_info": {
   "codemirror_mode": {
    "name": "ipython",
    "version": 3
   },
   "file_extension": ".py",
   "mimetype": "text/x-python",
   "name": "python",
   "nbconvert_exporter": "python",
   "pygments_lexer": "ipython3",
   "version": "3.11.5"
  }
 },
 "nbformat": 4,
 "nbformat_minor": 5
}
