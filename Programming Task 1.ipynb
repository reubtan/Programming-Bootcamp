{
 "cells": [
  {
   "cell_type": "markdown",
   "id": "a3c434e5",
   "metadata": {},
   "source": [
    "Programming Task #1\n",
    "TASK\n",
    "Given a list of digits, determine the integer that it represents. \n",
    "\n",
    "For example, given the list: [8,3,5,1], your program should output 8351 as an integer.\n",
    "\n",
    "Note: You are not allowed to use conversion / casting, or any method that makes your solution trivial (such as printing each number without spaces). You should employ an algorithmic approach in your code. "
   ]
  },
  {
   "cell_type": "code",
   "execution_count": 24,
   "id": "fedfbb3c",
   "metadata": {},
   "outputs": [
    {
     "name": "stdout",
     "output_type": "stream",
     "text": [
      "8351\n",
      "<class 'int'>\n"
     ]
    }
   ],
   "source": [
    "lst = [8,3,5,1] #given list\n",
    "result = 0\n",
    "\n",
    "for digit in lst: #iterates through each digit\n",
    "    result = (result * 10) + digit #result = represents the new value of the variable.\n",
    "    \n",
    "print(result)\n",
    "print(type(result))"
   ]
  },
  {
   "cell_type": "markdown",
   "id": "37f9aa20",
   "metadata": {},
   "source": [
    "Try to use analogies that they would understand, drawing on concepts they're likely to have seen in other areas (i.e., mathematics or every-day life)"
   ]
  },
  {
   "cell_type": "markdown",
   "id": "c312eabf",
   "metadata": {},
   "source": [
    "Make sure you cover any programmatic concepts that would not be immediately understood by a beginner (your code should be simple to minimise any programmatic / syntactic difficulties)"
   ]
  }
 ],
 "metadata": {
  "kernelspec": {
   "display_name": "Python 3 (ipykernel)",
   "language": "python",
   "name": "python3"
  },
  "language_info": {
   "codemirror_mode": {
    "name": "ipython",
    "version": 3
   },
   "file_extension": ".py",
   "mimetype": "text/x-python",
   "name": "python",
   "nbconvert_exporter": "python",
   "pygments_lexer": "ipython3",
   "version": "3.11.5"
  }
 },
 "nbformat": 4,
 "nbformat_minor": 5
}
