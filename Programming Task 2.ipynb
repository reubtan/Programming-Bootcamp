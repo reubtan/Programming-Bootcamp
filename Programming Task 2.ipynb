{
 "cells": [
  {
   "cell_type": "markdown",
   "id": "5d288052",
   "metadata": {},
   "source": [
    "Programming Task #2\n",
    "TASK:\n",
    "Create a game where the user must correctly guess a randomly generated integer between 1 and 100.\n",
    "\n",
    "The user should be notified whether their guess was “lower” or “higher” than the target number.\n",
    "\n",
    "Note that you will need to use the random library’s randint function."
   ]
  },
  {
   "cell_type": "code",
   "execution_count": 3,
   "id": "c2e32208",
   "metadata": {},
   "outputs": [
    {
     "name": "stdout",
     "output_type": "stream",
     "text": [
      "Guess the number: 50\n",
      "Number guessed was too large\n",
      "Guess the number: 25\n",
      "Number guessed was too large\n",
      "Guess the number: 12\n",
      "Number guessed was too small\n",
      "Guess the number: 19\n",
      "Number guessed was too small\n",
      "Guess the number: 22\n",
      "Number guessed was too small\n",
      "Guess the number: 24\n",
      "Correct! The number was 24\n"
     ]
    }
   ],
   "source": [
    "import random \n",
    "\n",
    "target = random.randint(1, 100) \n",
    "guess = None #set to None to get while loop to work\n",
    "\n",
    "while guess != target: #Ensures the right number is chosen before the iteration stops\n",
    "    guess = int(input('Guess the number: '))\n",
    "    if guess > target: #Only runs indented code if the guess number was larger than the target number\n",
    "        print('Number guessed was too large')\n",
    "    elif guess < target: #Only runs indented code if the guess number was smaller than the target number\n",
    "        print('Number guessed was too small')\n",
    "\n",
    "print(f'Correct! The number was {target}') \n",
    "#If the guess number is not greater than or less than the target, then it will have to be equal to the target."
   ]
  },
  {
   "cell_type": "markdown",
   "id": "805d5836",
   "metadata": {},
   "source": [
    "### Purpose"
   ]
  },
  {
   "cell_type": "markdown",
   "id": "1bfd532b",
   "metadata": {},
   "source": [
    "To correctly guess a random inetger from 1-100."
   ]
  },
  {
   "cell_type": "markdown",
   "id": "15548e97",
   "metadata": {},
   "source": [
    "### Explanation"
   ]
  },
  {
   "cell_type": "markdown",
   "id": "075f80ae",
   "metadata": {},
   "source": [
    "We need the code to keep on going unless the target value is guessed right. This can easily be done using a 'while' loop which keeps repeating the indented code unless the while loop conditions are met, in this case it would be met when the guess integer is equal to the target integer. So when the guess integer does not equal to the target integer, it would have to go through the indented code of the 'while' loop.\n"
   ]
  },
  {
   "cell_type": "markdown",
   "id": "449399ac",
   "metadata": {},
   "source": [
    "An 'if' statement allows us to see if the guess number is larger than the target number. If it is larger then the code indented to the 'if' statement will be ran and the while loop goes again. "
   ]
  },
  {
   "cell_type": "markdown",
   "id": "8856902d",
   "metadata": {},
   "source": [
    "The 'elif' statement does the same thing but for in the case when the guess number is smaller than the target number, except we use 'elif' instead of 'if' to keep the program from doing unecessary actions. This is because 'elif' only runs if the 'if' statement is not met, otherwise it will not run, saving resources."
   ]
  },
  {
   "cell_type": "markdown",
   "id": "04296251",
   "metadata": {},
   "source": [
    "With these conditions set, it allows us to know when the number we choose is too large or too small which narrows down the choices. This repeats until eventually the right number is inputted and the code will terminate and the task is completed successfully."
   ]
  }
 ],
 "metadata": {
  "kernelspec": {
   "display_name": "Python 3 (ipykernel)",
   "language": "python",
   "name": "python3"
  },
  "language_info": {
   "codemirror_mode": {
    "name": "ipython",
    "version": 3
   },
   "file_extension": ".py",
   "mimetype": "text/x-python",
   "name": "python",
   "nbconvert_exporter": "python",
   "pygments_lexer": "ipython3",
   "version": "3.11.5"
  }
 },
 "nbformat": 4,
 "nbformat_minor": 5
}
