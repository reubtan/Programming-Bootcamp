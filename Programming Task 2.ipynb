{
 "cells": [
  {
   "cell_type": "markdown",
   "id": "5d288052",
   "metadata": {},
   "source": [
    "Programming Task #2\n",
    "TASK:\n",
    "Create a game where the user must correctly guess a randomly generated integer between 1 and 100.\n",
    "\n",
    "The user should be notified whether their guess was “lower” or “higher” than the target number.\n",
    "\n",
    "Note that you will need to use the random library’s randint function."
   ]
  },
  {
   "cell_type": "code",
   "execution_count": 1,
   "id": "c9e9856c",
   "metadata": {},
   "outputs": [
    {
     "name": "stdout",
     "output_type": "stream",
     "text": [
      "Guess the number: 50\n",
      "Number guessed is too large\n",
      "Guess the number: 25\n",
      "Number guessed is too large\n",
      "Guess the number: 12\n",
      "Number guessed is too large\n",
      "Guess the number: 6\n",
      "Number guessed is too large\n",
      "Guess the number: 3\n",
      "Correct! The number was 3\n"
     ]
    }
   ],
   "source": [
    "import random \n",
    "\n",
    "target = random.randint(1, 100) \n",
    "guess = None #set to None to get while loop to work\n",
    "\n",
    "while guess != target: #Ensures the right number is chosen before the iteration stops\n",
    "    guess = int(input('Guess the number: '))\n",
    "    if guess > target:\n",
    "        print('Number guessed is too large')\n",
    "    elif guess < target:\n",
    "        print('Number guessed is too small')\n",
    "\n",
    "print(f'Correct! The number was {target}')"
   ]
  }
 ],
 "metadata": {
  "kernelspec": {
   "display_name": "Python 3 (ipykernel)",
   "language": "python",
   "name": "python3"
  },
  "language_info": {
   "codemirror_mode": {
    "name": "ipython",
    "version": 3
   },
   "file_extension": ".py",
   "mimetype": "text/x-python",
   "name": "python",
   "nbconvert_exporter": "python",
   "pygments_lexer": "ipython3",
   "version": "3.11.5"
  }
 },
 "nbformat": 4,
 "nbformat_minor": 5
}
